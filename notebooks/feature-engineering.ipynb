{
 "cells": [
  {
   "cell_type": "code",
   "id": "initial_id",
   "metadata": {
    "collapsed": true,
    "ExecuteTime": {
     "end_time": "2025-05-11T11:12:08.661549Z",
     "start_time": "2025-05-11T11:12:08.617166Z"
    }
   },
   "source": "import pandas as pd",
   "outputs": [],
   "execution_count": 11
  },
  {
   "metadata": {
    "ExecuteTime": {
     "end_time": "2025-05-11T11:12:09.523286Z",
     "start_time": "2025-05-11T11:12:09.195478Z"
    }
   },
   "cell_type": "code",
   "source": [
    "raw_data = \"..\\\\data\\\\synthetic_fraud_dataset.csv\"\n",
    "cleaned_data = \"..\\\\data\\\\cleaned_data.csv\"\n",
    "df = pd.read_csv(raw_data)"
   ],
   "id": "ad804d6251d26e85",
   "outputs": [],
   "execution_count": 12
  },
  {
   "metadata": {
    "ExecuteTime": {
     "end_time": "2025-05-11T11:12:10.064488Z",
     "start_time": "2025-05-11T11:12:10.036523Z"
    }
   },
   "cell_type": "code",
   "source": "df.drop(['Transaction_ID', 'User_ID'], axis=1, inplace=True)",
   "id": "13c11fb943aa055d",
   "outputs": [],
   "execution_count": 13
  },
  {
   "metadata": {
    "ExecuteTime": {
     "end_time": "2025-05-11T11:12:10.674975Z",
     "start_time": "2025-05-11T11:12:10.581578Z"
    }
   },
   "cell_type": "code",
   "source": [
    "df['Timestamp'] = pd.to_datetime(df['Timestamp'])\n",
    "\n",
    "df['Transaction_Hour'] = df['Timestamp'].dt.hour\n",
    "df['Transaction_DayOfWeek'] = df['Timestamp'].dt.dayofweek\n",
    "df['Transaction_Month'] = df['Timestamp'].dt.month\n",
    "\n",
    "df.drop('Timestamp', axis=1, inplace=True)"
   ],
   "id": "328294bef5b9f165",
   "outputs": [],
   "execution_count": 14
  },
  {
   "metadata": {
    "ExecuteTime": {
     "end_time": "2025-05-11T11:12:11.366997Z",
     "start_time": "2025-05-11T11:12:11.322940Z"
    }
   },
   "cell_type": "code",
   "source": [
    "# Yeni özellikler\n",
    "df['Transaction_Amount_to_Balance'] = df['Transaction_Amount'] / (df['Account_Balance'] + 1)\n",
    "df['Transaction_Frequency_Ratio'] = df['Daily_Transaction_Count'] / (df['Avg_Transaction_Amount_7d'] + 1)\n",
    "df['Failed_Transaction_Rate'] = df['Failed_Transaction_Count_7d'] / (df['Daily_Transaction_Count'] + 1)\n",
    "df['Risk_History_Ratio'] = df['Previous_Fraudulent_Activity'] / (df['Card_Age'] + 1)\n",
    "\n",
    "# Redundant sütunları sil\n",
    "df.drop([\n",
    "    'Daily_Transaction_Count',\n",
    "    'Avg_Transaction_Amount_7d',\n",
    "    'Failed_Transaction_Count_7d',\n",
    "    'Previous_Fraudulent_Activity'\n",
    "], axis=1, inplace=True)"
   ],
   "id": "bd5fa08ea29c810f",
   "outputs": [],
   "execution_count": 15
  },
  {
   "metadata": {
    "ExecuteTime": {
     "end_time": "2025-05-11T11:12:12.702790Z",
     "start_time": "2025-05-11T11:12:12.616748Z"
    }
   },
   "cell_type": "code",
   "source": "df_encoded = pd.get_dummies(df, drop_first=True)",
   "id": "e43a1c25902be9d3",
   "outputs": [],
   "execution_count": 16
  },
  {
   "metadata": {
    "ExecuteTime": {
     "end_time": "2025-05-11T11:12:14.091718Z",
     "start_time": "2025-05-11T11:12:14.079376Z"
    }
   },
   "cell_type": "code",
   "source": "print(\"Eksik değer var mı?\", df_encoded.isnull().values.any())",
   "id": "f21d05f8bf1b21f1",
   "outputs": [
    {
     "name": "stdout",
     "output_type": "stream",
     "text": [
      "Eksik değer var mı? False\n"
     ]
    }
   ],
   "execution_count": 17
  },
  {
   "metadata": {
    "ExecuteTime": {
     "end_time": "2025-05-11T11:12:16.184476Z",
     "start_time": "2025-05-11T11:12:15.090978Z"
    }
   },
   "cell_type": "code",
   "source": [
    "df_encoded.to_csv(cleaned_data, index=False)\n",
    "print(\"Veri başarıyla kaydedildi:\", cleaned_data)"
   ],
   "id": "4ebde3d00dff748d",
   "outputs": [
    {
     "name": "stdout",
     "output_type": "stream",
     "text": [
      "Veri başarıyla kaydedildi: ..\\data\\cleaned_data.csv\n"
     ]
    }
   ],
   "execution_count": 18
  },
  {
   "metadata": {},
   "cell_type": "code",
   "outputs": [],
   "execution_count": null,
   "source": "",
   "id": "bc1fd85eff1db130"
  }
 ],
 "metadata": {
  "kernelspec": {
   "display_name": "Python 3",
   "language": "python",
   "name": "python3"
  },
  "language_info": {
   "codemirror_mode": {
    "name": "ipython",
    "version": 2
   },
   "file_extension": ".py",
   "mimetype": "text/x-python",
   "name": "python",
   "nbconvert_exporter": "python",
   "pygments_lexer": "ipython2",
   "version": "2.7.6"
  }
 },
 "nbformat": 4,
 "nbformat_minor": 5
}
